{
 "cells": [
  {
   "cell_type": "code",
   "execution_count": 1,
   "metadata": {},
   "outputs": [],
   "source": [
    "import pandas as pd\n",
    "import numpy as np"
   ]
  },
  {
   "cell_type": "code",
   "execution_count": 2,
   "metadata": {},
   "outputs": [],
   "source": [
    "dict1 = {\n",
    "    \"name\": [\"Shruti\", \"Abhishek\", \"Aditi\", \"Harsh\"],\n",
    "    \"marks\": [10, 7, 6, 1],\n",
    "    \"city\": ['jabalpur', 'bhopal', 'mandla', 'kolkata']\n",
    "}"
   ]
  },
  {
   "cell_type": "code",
   "execution_count": 3,
   "metadata": {},
   "outputs": [
    {
     "name": "stdout",
     "output_type": "stream",
     "text": [
      "       name  marks      city\n",
      "0    Shruti     10  jabalpur\n",
      "1  Abhishek      7    bhopal\n",
      "2     Aditi      6    mandla\n",
      "3     Harsh      1   kolkata\n"
     ]
    }
   ],
   "source": [
    "df = pd.DataFrame(dict1)                                        #creates a dataframe. like a table\n",
    "print(df)"
   ]
  },
  {
   "cell_type": "code",
   "execution_count": 4,
   "metadata": {},
   "outputs": [],
   "source": [
    "df.to_csv('friends.csv')                                        #creates csv file in the folder"
   ]
  },
  {
   "cell_type": "code",
   "execution_count": 5,
   "metadata": {},
   "outputs": [],
   "source": [
    "df.to_csv('friends.csv', index=False)                           #excludes the indexing"
   ]
  },
  {
   "cell_type": "code",
   "execution_count": 6,
   "metadata": {},
   "outputs": [
    {
     "name": "stdout",
     "output_type": "stream",
     "text": [
      "       name  marks      city\n",
      "0    Shruti     10  jabalpur\n",
      "1  Abhishek      7    bhopal\n"
     ]
    }
   ],
   "source": [
    "print(df.head(2))                                               #returns upper two rows"
   ]
  },
  {
   "cell_type": "code",
   "execution_count": 7,
   "metadata": {},
   "outputs": [
    {
     "name": "stdout",
     "output_type": "stream",
     "text": [
      "    name  marks     city\n",
      "2  Aditi      6   mandla\n",
      "3  Harsh      1  kolkata\n"
     ]
    }
   ],
   "source": [
    "print(df.tail(2))                                               #returns lower two rows"
   ]
  },
  {
   "cell_type": "code",
   "execution_count": 8,
   "metadata": {},
   "outputs": [
    {
     "name": "stdout",
     "output_type": "stream",
     "text": [
      "           marks\n",
      "count   4.000000\n",
      "mean    6.000000\n",
      "std     3.741657\n",
      "min     1.000000\n",
      "25%     4.750000\n",
      "50%     6.500000\n",
      "75%     7.750000\n",
      "max    10.000000\n"
     ]
    }
   ],
   "source": [
    "print(df.describe())                                            #mathematical description of numerical columns in the data"
   ]
  },
  {
   "cell_type": "code",
   "execution_count": 10,
   "metadata": {},
   "outputs": [
    {
     "name": "stdout",
     "output_type": "stream",
     "text": [
      "   Train No  Speed        City\n",
      "0     12322     34      Rampur\n",
      "1     12534    123     kolkata\n",
      "2    125654     67   barreilly\n",
      "3    564523     87  antarctica\n"
     ]
    }
   ],
   "source": [
    "shr = pd.read_csv('shruti.csv')                                 #to read a csv file in the folder\n",
    "print(shr)"
   ]
  },
  {
   "cell_type": "code",
   "execution_count": 11,
   "metadata": {},
   "outputs": [
    {
     "name": "stdout",
     "output_type": "stream",
     "text": [
      "   Train No  Speed        City\n",
      "0     12322     50      Rampur\n",
      "1     12534    123     kolkata\n",
      "2    125654     67   barreilly\n",
      "3    564523     87  antarctica\n"
     ]
    },
    {
     "name": "stderr",
     "output_type": "stream",
     "text": [
      "/var/folders/g9/f0h_fpvn0x9gjfm1wcq6j3yh0000gn/T/ipykernel_77720/896148891.py:1: FutureWarning: ChainedAssignmentError: behaviour will change in pandas 3.0!\n",
      "You are setting values through chained assignment. Currently this works in certain cases, but when using Copy-on-Write (which will become the default behaviour in pandas 3.0) this will never work to update the original DataFrame or Series, because the intermediate object on which we are setting values will behave as a copy.\n",
      "A typical example is when you are setting values in a column of a DataFrame, like:\n",
      "\n",
      "df[\"col\"][row_indexer] = value\n",
      "\n",
      "Use `df.loc[row_indexer, \"col\"] = values` instead, to perform the assignment in a single step and ensure this keeps updating the original `df`.\n",
      "\n",
      "See the caveats in the documentation: https://pandas.pydata.org/pandas-docs/stable/user_guide/indexing.html#returning-a-view-versus-a-copy\n",
      "\n",
      "  shr['Speed'][0] = 50                                            #to change the value in the df\n",
      "/var/folders/g9/f0h_fpvn0x9gjfm1wcq6j3yh0000gn/T/ipykernel_77720/896148891.py:1: SettingWithCopyWarning: \n",
      "A value is trying to be set on a copy of a slice from a DataFrame\n",
      "\n",
      "See the caveats in the documentation: https://pandas.pydata.org/pandas-docs/stable/user_guide/indexing.html#returning-a-view-versus-a-copy\n",
      "  shr['Speed'][0] = 50                                            #to change the value in the df\n"
     ]
    }
   ],
   "source": [
    "shr['Speed'][0] = 50                                            #to change the value in the df\n",
    "print(shr)                                                      \n",
    "shr.to_csv('shruti.csv')                                        #to update the csv file in the folder"
   ]
  },
  {
   "cell_type": "code",
   "execution_count": 12,
   "metadata": {},
   "outputs": [
    {
     "name": "stdout",
     "output_type": "stream",
     "text": [
      "     Train No  Speed        City\n",
      "1st     12322     50      Rampur\n",
      "2nd     12534    123     kolkata\n",
      "3rd    125654     67   barreilly\n",
      "4th    564523     87  antarctica\n"
     ]
    }
   ],
   "source": [
    "shr.index = ['1st', '2nd', '3rd', '4th']                        #it is not necessary that indexes are numbers. they can be anything\n",
    "print(shr)"
   ]
  },
  {
   "cell_type": "code",
   "execution_count": 13,
   "metadata": {},
   "outputs": [
    {
     "name": "stdout",
     "output_type": "stream",
     "text": [
      "0     0.549810\n",
      "1     0.872608\n",
      "2     0.030752\n",
      "3     0.569226\n",
      "4     0.975886\n",
      "5     0.518077\n",
      "6     0.599370\n",
      "7     0.045699\n",
      "8     0.861774\n",
      "9     0.709287\n",
      "10    0.812678\n",
      "11    0.466517\n",
      "12    0.093908\n",
      "13    0.462112\n",
      "14    0.892968\n",
      "15    0.642008\n",
      "16    0.920407\n",
      "17    0.957525\n",
      "18    0.291381\n",
      "19    0.605865\n",
      "20    0.816262\n",
      "21    0.894372\n",
      "22    0.717011\n",
      "23    0.305288\n",
      "24    0.151833\n",
      "25    0.849207\n",
      "26    0.772388\n",
      "27    0.300184\n",
      "28    0.191702\n",
      "29    0.156328\n",
      "30    0.270090\n",
      "31    0.272965\n",
      "32    0.277654\n",
      "33    0.181848\n",
      "dtype: float64\n"
     ]
    }
   ],
   "source": [
    "ser = pd.Series(np.random.rand(34))                             #row/column of DF. uniform datatype. indexed.\n",
    "print(ser)"
   ]
  },
  {
   "cell_type": "code",
   "execution_count": 14,
   "metadata": {},
   "outputs": [],
   "source": [
    "newdf = pd.DataFrame(np.random.rand(334,5), index=np.arange(334))"
   ]
  },
  {
   "cell_type": "code",
   "execution_count": null,
   "metadata": {},
   "outputs": [
    {
     "data": {
      "text/html": [
       "<div>\n",
       "<style scoped>\n",
       "    .dataframe tbody tr th:only-of-type {\n",
       "        vertical-align: middle;\n",
       "    }\n",
       "\n",
       "    .dataframe tbody tr th {\n",
       "        vertical-align: top;\n",
       "    }\n",
       "\n",
       "    .dataframe thead th {\n",
       "        text-align: right;\n",
       "    }\n",
       "</style>\n",
       "<table border=\"1\" class=\"dataframe\">\n",
       "  <thead>\n",
       "    <tr style=\"text-align: right;\">\n",
       "      <th></th>\n",
       "      <th>0</th>\n",
       "      <th>1</th>\n",
       "      <th>2</th>\n",
       "      <th>3</th>\n",
       "      <th>4</th>\n",
       "    </tr>\n",
       "  </thead>\n",
       "  <tbody>\n",
       "    <tr>\n",
       "      <th>0</th>\n",
       "      <td>0.958180</td>\n",
       "      <td>0.891292</td>\n",
       "      <td>0.973566</td>\n",
       "      <td>0.289455</td>\n",
       "      <td>0.318961</td>\n",
       "    </tr>\n",
       "    <tr>\n",
       "      <th>1</th>\n",
       "      <td>0.515417</td>\n",
       "      <td>0.341853</td>\n",
       "      <td>0.240648</td>\n",
       "      <td>0.043792</td>\n",
       "      <td>0.372318</td>\n",
       "    </tr>\n",
       "    <tr>\n",
       "      <th>2</th>\n",
       "      <td>0.647490</td>\n",
       "      <td>0.268055</td>\n",
       "      <td>0.384475</td>\n",
       "      <td>0.428747</td>\n",
       "      <td>0.845003</td>\n",
       "    </tr>\n",
       "    <tr>\n",
       "      <th>3</th>\n",
       "      <td>0.137483</td>\n",
       "      <td>0.321644</td>\n",
       "      <td>0.994624</td>\n",
       "      <td>0.368574</td>\n",
       "      <td>0.979770</td>\n",
       "    </tr>\n",
       "    <tr>\n",
       "      <th>4</th>\n",
       "      <td>0.489166</td>\n",
       "      <td>0.392016</td>\n",
       "      <td>0.400191</td>\n",
       "      <td>0.512641</td>\n",
       "      <td>0.147883</td>\n",
       "    </tr>\n",
       "    <tr>\n",
       "      <th>...</th>\n",
       "      <td>...</td>\n",
       "      <td>...</td>\n",
       "      <td>...</td>\n",
       "      <td>...</td>\n",
       "      <td>...</td>\n",
       "    </tr>\n",
       "    <tr>\n",
       "      <th>329</th>\n",
       "      <td>0.867812</td>\n",
       "      <td>0.107837</td>\n",
       "      <td>0.107332</td>\n",
       "      <td>0.453864</td>\n",
       "      <td>0.160772</td>\n",
       "    </tr>\n",
       "    <tr>\n",
       "      <th>330</th>\n",
       "      <td>0.997352</td>\n",
       "      <td>0.161145</td>\n",
       "      <td>0.512226</td>\n",
       "      <td>0.091858</td>\n",
       "      <td>0.883060</td>\n",
       "    </tr>\n",
       "    <tr>\n",
       "      <th>331</th>\n",
       "      <td>0.615826</td>\n",
       "      <td>0.368959</td>\n",
       "      <td>0.790596</td>\n",
       "      <td>0.037602</td>\n",
       "      <td>0.688155</td>\n",
       "    </tr>\n",
       "    <tr>\n",
       "      <th>332</th>\n",
       "      <td>0.097611</td>\n",
       "      <td>0.293809</td>\n",
       "      <td>0.092287</td>\n",
       "      <td>0.596351</td>\n",
       "      <td>0.983746</td>\n",
       "    </tr>\n",
       "    <tr>\n",
       "      <th>333</th>\n",
       "      <td>0.011536</td>\n",
       "      <td>0.329597</td>\n",
       "      <td>0.538879</td>\n",
       "      <td>0.498037</td>\n",
       "      <td>0.936064</td>\n",
       "    </tr>\n",
       "  </tbody>\n",
       "</table>\n",
       "<p>334 rows × 5 columns</p>\n",
       "</div>"
      ],
      "text/plain": [
       "            0         1         2         3         4\n",
       "0    0.958180  0.891292  0.973566  0.289455  0.318961\n",
       "1    0.515417  0.341853  0.240648  0.043792  0.372318\n",
       "2    0.647490  0.268055  0.384475  0.428747  0.845003\n",
       "3    0.137483  0.321644  0.994624  0.368574  0.979770\n",
       "4    0.489166  0.392016  0.400191  0.512641  0.147883\n",
       "..        ...       ...       ...       ...       ...\n",
       "329  0.867812  0.107837  0.107332  0.453864  0.160772\n",
       "330  0.997352  0.161145  0.512226  0.091858  0.883060\n",
       "331  0.615826  0.368959  0.790596  0.037602  0.688155\n",
       "332  0.097611  0.293809  0.092287  0.596351  0.983746\n",
       "333  0.011536  0.329597  0.538879  0.498037  0.936064\n",
       "\n",
       "[334 rows x 5 columns]"
      ]
     },
     "execution_count": 15,
     "metadata": {},
     "output_type": "execute_result"
    }
   ],
   "source": [
    "type(newdf)"
   ]
  },
  {
   "cell_type": "code",
   "execution_count": null,
   "metadata": {},
   "outputs": [],
   "source": []
  }
 ],
 "metadata": {
  "kernelspec": {
   "display_name": "Python 3",
   "language": "python",
   "name": "python3"
  },
  "language_info": {
   "codemirror_mode": {
    "name": "ipython",
    "version": 3
   },
   "file_extension": ".py",
   "mimetype": "text/x-python",
   "name": "python",
   "nbconvert_exporter": "python",
   "pygments_lexer": "ipython3",
   "version": "3.13.4"
  }
 },
 "nbformat": 4,
 "nbformat_minor": 2
}
