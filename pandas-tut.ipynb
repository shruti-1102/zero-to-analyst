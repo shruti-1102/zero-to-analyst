{
 "cells": [
  {
   "cell_type": "code",
   "execution_count": 4,
   "metadata": {},
   "outputs": [],
   "source": [
    "import pandas as pd\n",
    "import numpy as np"
   ]
  },
  {
   "cell_type": "code",
   "execution_count": 2,
   "metadata": {},
   "outputs": [],
   "source": [
    "dict1 = {\n",
    "    \"name\": [\"Shruti\", \"Abhishek\", \"Aditi\", \"Harsh\"],\n",
    "    \"marks\": [10, 7, 6, 1],\n",
    "    \"city\": ['jabalpur', 'bhopal', 'mandla', 'kolkata']\n",
    "}"
   ]
  },
  {
   "cell_type": "code",
   "execution_count": 3,
   "metadata": {},
   "outputs": [
    {
     "name": "stdout",
     "output_type": "stream",
     "text": [
      "       name  marks      city\n",
      "0    Shruti     10  jabalpur\n",
      "1  Abhishek      7    bhopal\n",
      "2     Aditi      6    mandla\n",
      "3     Harsh      1   kolkata\n"
     ]
    }
   ],
   "source": [
    "df = pd.DataFrame(dict1)                                        #creates a dataframe. like a table\n",
    "print(df)"
   ]
  },
  {
   "cell_type": "code",
   "execution_count": 4,
   "metadata": {},
   "outputs": [],
   "source": [
    "df.to_csv('friends.csv')                                        #creates csv file in the folder"
   ]
  },
  {
   "cell_type": "code",
   "execution_count": 5,
   "metadata": {},
   "outputs": [],
   "source": [
    "df.to_csv('friends.csv', index=False)                           #excludes the indexing"
   ]
  },
  {
   "cell_type": "code",
   "execution_count": 6,
   "metadata": {},
   "outputs": [
    {
     "name": "stdout",
     "output_type": "stream",
     "text": [
      "       name  marks      city\n",
      "0    Shruti     10  jabalpur\n",
      "1  Abhishek      7    bhopal\n"
     ]
    }
   ],
   "source": [
    "print(df.head(2))                                               #returns upper two rows"
   ]
  },
  {
   "cell_type": "code",
   "execution_count": 7,
   "metadata": {},
   "outputs": [
    {
     "name": "stdout",
     "output_type": "stream",
     "text": [
      "    name  marks     city\n",
      "2  Aditi      6   mandla\n",
      "3  Harsh      1  kolkata\n"
     ]
    }
   ],
   "source": [
    "print(df.tail(2))                                               #returns lower two rows"
   ]
  },
  {
   "cell_type": "code",
   "execution_count": 8,
   "metadata": {},
   "outputs": [
    {
     "name": "stdout",
     "output_type": "stream",
     "text": [
      "           marks\n",
      "count   4.000000\n",
      "mean    6.000000\n",
      "std     3.741657\n",
      "min     1.000000\n",
      "25%     4.750000\n",
      "50%     6.500000\n",
      "75%     7.750000\n",
      "max    10.000000\n"
     ]
    }
   ],
   "source": [
    "print(df.describe())                                            #mathematical description of numerical columns in the data"
   ]
  },
  {
   "cell_type": "code",
   "execution_count": 10,
   "metadata": {},
   "outputs": [
    {
     "name": "stdout",
     "output_type": "stream",
     "text": [
      "   Train No  Speed        City\n",
      "0     12322     34      Rampur\n",
      "1     12534    123     kolkata\n",
      "2    125654     67   barreilly\n",
      "3    564523     87  antarctica\n"
     ]
    }
   ],
   "source": [
    "shr = pd.read_csv('shruti.csv')                                 #to read a csv file in the folder\n",
    "print(shr)"
   ]
  },
  {
   "cell_type": "code",
   "execution_count": 11,
   "metadata": {},
   "outputs": [
    {
     "name": "stdout",
     "output_type": "stream",
     "text": [
      "   Train No  Speed        City\n",
      "0     12322     50      Rampur\n",
      "1     12534    123     kolkata\n",
      "2    125654     67   barreilly\n",
      "3    564523     87  antarctica\n"
     ]
    },
    {
     "name": "stderr",
     "output_type": "stream",
     "text": [
      "/var/folders/g9/f0h_fpvn0x9gjfm1wcq6j3yh0000gn/T/ipykernel_77720/896148891.py:1: FutureWarning: ChainedAssignmentError: behaviour will change in pandas 3.0!\n",
      "You are setting values through chained assignment. Currently this works in certain cases, but when using Copy-on-Write (which will become the default behaviour in pandas 3.0) this will never work to update the original DataFrame or Series, because the intermediate object on which we are setting values will behave as a copy.\n",
      "A typical example is when you are setting values in a column of a DataFrame, like:\n",
      "\n",
      "df[\"col\"][row_indexer] = value\n",
      "\n",
      "Use `df.loc[row_indexer, \"col\"] = values` instead, to perform the assignment in a single step and ensure this keeps updating the original `df`.\n",
      "\n",
      "See the caveats in the documentation: https://pandas.pydata.org/pandas-docs/stable/user_guide/indexing.html#returning-a-view-versus-a-copy\n",
      "\n",
      "  shr['Speed'][0] = 50                                            #to change the value in the df\n",
      "/var/folders/g9/f0h_fpvn0x9gjfm1wcq6j3yh0000gn/T/ipykernel_77720/896148891.py:1: SettingWithCopyWarning: \n",
      "A value is trying to be set on a copy of a slice from a DataFrame\n",
      "\n",
      "See the caveats in the documentation: https://pandas.pydata.org/pandas-docs/stable/user_guide/indexing.html#returning-a-view-versus-a-copy\n",
      "  shr['Speed'][0] = 50                                            #to change the value in the df\n"
     ]
    }
   ],
   "source": [
    "shr['Speed'][0] = 50                                            #to change the value in the df\n",
    "print(shr)                                                      \n",
    "shr.to_csv('shruti.csv')                                        #to update the csv file in the folder"
   ]
  },
  {
   "cell_type": "code",
   "execution_count": 12,
   "metadata": {},
   "outputs": [
    {
     "name": "stdout",
     "output_type": "stream",
     "text": [
      "     Train No  Speed        City\n",
      "1st     12322     50      Rampur\n",
      "2nd     12534    123     kolkata\n",
      "3rd    125654     67   barreilly\n",
      "4th    564523     87  antarctica\n"
     ]
    }
   ],
   "source": [
    "shr.index = ['1st', '2nd', '3rd', '4th']                        #it is not necessary that indexes are numbers. they can be anything\n",
    "print(shr)"
   ]
  },
  {
   "cell_type": "code",
   "execution_count": 13,
   "metadata": {},
   "outputs": [
    {
     "name": "stdout",
     "output_type": "stream",
     "text": [
      "0     0.549810\n",
      "1     0.872608\n",
      "2     0.030752\n",
      "3     0.569226\n",
      "4     0.975886\n",
      "5     0.518077\n",
      "6     0.599370\n",
      "7     0.045699\n",
      "8     0.861774\n",
      "9     0.709287\n",
      "10    0.812678\n",
      "11    0.466517\n",
      "12    0.093908\n",
      "13    0.462112\n",
      "14    0.892968\n",
      "15    0.642008\n",
      "16    0.920407\n",
      "17    0.957525\n",
      "18    0.291381\n",
      "19    0.605865\n",
      "20    0.816262\n",
      "21    0.894372\n",
      "22    0.717011\n",
      "23    0.305288\n",
      "24    0.151833\n",
      "25    0.849207\n",
      "26    0.772388\n",
      "27    0.300184\n",
      "28    0.191702\n",
      "29    0.156328\n",
      "30    0.270090\n",
      "31    0.272965\n",
      "32    0.277654\n",
      "33    0.181848\n",
      "dtype: float64\n"
     ]
    }
   ],
   "source": [
    "ser = pd.Series(np.random.rand(34))                             #row/column of DF. uniform datatype. indexed.\n",
    "print(ser)"
   ]
  },
  {
   "cell_type": "code",
   "execution_count": 14,
   "metadata": {},
   "outputs": [],
   "source": [
    "newdf = pd.DataFrame(np.random.rand(334,5), index=np.arange(334))"
   ]
  },
  {
   "cell_type": "code",
   "execution_count": 16,
   "metadata": {},
   "outputs": [
    {
     "data": {
      "text/plain": [
       "pandas.core.frame.DataFrame"
      ]
     },
     "execution_count": 16,
     "metadata": {},
     "output_type": "execute_result"
    }
   ],
   "source": [
    "type(newdf)"
   ]
  },
  {
   "cell_type": "code",
   "execution_count": 17,
   "metadata": {},
   "outputs": [
    {
     "data": {
      "text/html": [
       "<div>\n",
       "<style scoped>\n",
       "    .dataframe tbody tr th:only-of-type {\n",
       "        vertical-align: middle;\n",
       "    }\n",
       "\n",
       "    .dataframe tbody tr th {\n",
       "        vertical-align: top;\n",
       "    }\n",
       "\n",
       "    .dataframe thead th {\n",
       "        text-align: right;\n",
       "    }\n",
       "</style>\n",
       "<table border=\"1\" class=\"dataframe\">\n",
       "  <thead>\n",
       "    <tr style=\"text-align: right;\">\n",
       "      <th></th>\n",
       "      <th>0</th>\n",
       "      <th>1</th>\n",
       "      <th>2</th>\n",
       "      <th>3</th>\n",
       "      <th>4</th>\n",
       "    </tr>\n",
       "  </thead>\n",
       "  <tbody>\n",
       "    <tr>\n",
       "      <th>count</th>\n",
       "      <td>334.000000</td>\n",
       "      <td>334.000000</td>\n",
       "      <td>334.000000</td>\n",
       "      <td>334.000000</td>\n",
       "      <td>334.000000</td>\n",
       "    </tr>\n",
       "    <tr>\n",
       "      <th>mean</th>\n",
       "      <td>0.497203</td>\n",
       "      <td>0.488127</td>\n",
       "      <td>0.497412</td>\n",
       "      <td>0.480521</td>\n",
       "      <td>0.523209</td>\n",
       "    </tr>\n",
       "    <tr>\n",
       "      <th>std</th>\n",
       "      <td>0.302029</td>\n",
       "      <td>0.284380</td>\n",
       "      <td>0.288939</td>\n",
       "      <td>0.285475</td>\n",
       "      <td>0.290839</td>\n",
       "    </tr>\n",
       "    <tr>\n",
       "      <th>min</th>\n",
       "      <td>0.000757</td>\n",
       "      <td>0.000048</td>\n",
       "      <td>0.000699</td>\n",
       "      <td>0.000432</td>\n",
       "      <td>0.004124</td>\n",
       "    </tr>\n",
       "    <tr>\n",
       "      <th>25%</th>\n",
       "      <td>0.237034</td>\n",
       "      <td>0.227914</td>\n",
       "      <td>0.234532</td>\n",
       "      <td>0.241322</td>\n",
       "      <td>0.259847</td>\n",
       "    </tr>\n",
       "    <tr>\n",
       "      <th>50%</th>\n",
       "      <td>0.490359</td>\n",
       "      <td>0.494485</td>\n",
       "      <td>0.510731</td>\n",
       "      <td>0.491789</td>\n",
       "      <td>0.560191</td>\n",
       "    </tr>\n",
       "    <tr>\n",
       "      <th>75%</th>\n",
       "      <td>0.769283</td>\n",
       "      <td>0.717551</td>\n",
       "      <td>0.733468</td>\n",
       "      <td>0.710599</td>\n",
       "      <td>0.765737</td>\n",
       "    </tr>\n",
       "    <tr>\n",
       "      <th>max</th>\n",
       "      <td>0.997352</td>\n",
       "      <td>0.999348</td>\n",
       "      <td>0.999003</td>\n",
       "      <td>0.998224</td>\n",
       "      <td>0.997404</td>\n",
       "    </tr>\n",
       "  </tbody>\n",
       "</table>\n",
       "</div>"
      ],
      "text/plain": [
       "                0           1           2           3           4\n",
       "count  334.000000  334.000000  334.000000  334.000000  334.000000\n",
       "mean     0.497203    0.488127    0.497412    0.480521    0.523209\n",
       "std      0.302029    0.284380    0.288939    0.285475    0.290839\n",
       "min      0.000757    0.000048    0.000699    0.000432    0.004124\n",
       "25%      0.237034    0.227914    0.234532    0.241322    0.259847\n",
       "50%      0.490359    0.494485    0.510731    0.491789    0.560191\n",
       "75%      0.769283    0.717551    0.733468    0.710599    0.765737\n",
       "max      0.997352    0.999348    0.999003    0.998224    0.997404"
      ]
     },
     "execution_count": 17,
     "metadata": {},
     "output_type": "execute_result"
    }
   ],
   "source": [
    "newdf.describe()"
   ]
  },
  {
   "cell_type": "code",
   "execution_count": 19,
   "metadata": {},
   "outputs": [
    {
     "data": {
      "text/plain": [
       "0    float64\n",
       "1    float64\n",
       "2    float64\n",
       "3    float64\n",
       "4    float64\n",
       "dtype: object"
      ]
     },
     "execution_count": 19,
     "metadata": {},
     "output_type": "execute_result"
    }
   ],
   "source": [
    "newdf.dtypes"
   ]
  },
  {
   "cell_type": "code",
   "execution_count": 20,
   "metadata": {},
   "outputs": [
    {
     "name": "stderr",
     "output_type": "stream",
     "text": [
      "/var/folders/g9/f0h_fpvn0x9gjfm1wcq6j3yh0000gn/T/ipykernel_77720/1871164521.py:1: FutureWarning: ChainedAssignmentError: behaviour will change in pandas 3.0!\n",
      "You are setting values through chained assignment. Currently this works in certain cases, but when using Copy-on-Write (which will become the default behaviour in pandas 3.0) this will never work to update the original DataFrame or Series, because the intermediate object on which we are setting values will behave as a copy.\n",
      "A typical example is when you are setting values in a column of a DataFrame, like:\n",
      "\n",
      "df[\"col\"][row_indexer] = value\n",
      "\n",
      "Use `df.loc[row_indexer, \"col\"] = values` instead, to perform the assignment in a single step and ensure this keeps updating the original `df`.\n",
      "\n",
      "See the caveats in the documentation: https://pandas.pydata.org/pandas-docs/stable/user_guide/indexing.html#returning-a-view-versus-a-copy\n",
      "\n",
      "  newdf[0][0] = 'Shruti'\n",
      "/var/folders/g9/f0h_fpvn0x9gjfm1wcq6j3yh0000gn/T/ipykernel_77720/1871164521.py:1: FutureWarning: Setting an item of incompatible dtype is deprecated and will raise an error in a future version of pandas. Value 'Shruti' has dtype incompatible with float64, please explicitly cast to a compatible dtype first.\n",
      "  newdf[0][0] = 'Shruti'\n"
     ]
    }
   ],
   "source": [
    "newdf[0][0] = 'Shruti'"
   ]
  },
  {
   "cell_type": "code",
   "execution_count": 21,
   "metadata": {},
   "outputs": [
    {
     "data": {
      "text/html": [
       "<div>\n",
       "<style scoped>\n",
       "    .dataframe tbody tr th:only-of-type {\n",
       "        vertical-align: middle;\n",
       "    }\n",
       "\n",
       "    .dataframe tbody tr th {\n",
       "        vertical-align: top;\n",
       "    }\n",
       "\n",
       "    .dataframe thead th {\n",
       "        text-align: right;\n",
       "    }\n",
       "</style>\n",
       "<table border=\"1\" class=\"dataframe\">\n",
       "  <thead>\n",
       "    <tr style=\"text-align: right;\">\n",
       "      <th></th>\n",
       "      <th>0</th>\n",
       "      <th>1</th>\n",
       "      <th>2</th>\n",
       "      <th>3</th>\n",
       "      <th>4</th>\n",
       "    </tr>\n",
       "  </thead>\n",
       "  <tbody>\n",
       "    <tr>\n",
       "      <th>0</th>\n",
       "      <td>Shruti</td>\n",
       "      <td>0.891292</td>\n",
       "      <td>0.973566</td>\n",
       "      <td>0.289455</td>\n",
       "      <td>0.318961</td>\n",
       "    </tr>\n",
       "    <tr>\n",
       "      <th>1</th>\n",
       "      <td>0.515417</td>\n",
       "      <td>0.341853</td>\n",
       "      <td>0.240648</td>\n",
       "      <td>0.043792</td>\n",
       "      <td>0.372318</td>\n",
       "    </tr>\n",
       "    <tr>\n",
       "      <th>2</th>\n",
       "      <td>0.64749</td>\n",
       "      <td>0.268055</td>\n",
       "      <td>0.384475</td>\n",
       "      <td>0.428747</td>\n",
       "      <td>0.845003</td>\n",
       "    </tr>\n",
       "    <tr>\n",
       "      <th>3</th>\n",
       "      <td>0.137483</td>\n",
       "      <td>0.321644</td>\n",
       "      <td>0.994624</td>\n",
       "      <td>0.368574</td>\n",
       "      <td>0.979770</td>\n",
       "    </tr>\n",
       "    <tr>\n",
       "      <th>4</th>\n",
       "      <td>0.489166</td>\n",
       "      <td>0.392016</td>\n",
       "      <td>0.400191</td>\n",
       "      <td>0.512641</td>\n",
       "      <td>0.147883</td>\n",
       "    </tr>\n",
       "  </tbody>\n",
       "</table>\n",
       "</div>"
      ],
      "text/plain": [
       "          0         1         2         3         4\n",
       "0    Shruti  0.891292  0.973566  0.289455  0.318961\n",
       "1  0.515417  0.341853  0.240648  0.043792  0.372318\n",
       "2   0.64749  0.268055  0.384475  0.428747  0.845003\n",
       "3  0.137483  0.321644  0.994624  0.368574  0.979770\n",
       "4  0.489166  0.392016  0.400191  0.512641  0.147883"
      ]
     },
     "execution_count": 21,
     "metadata": {},
     "output_type": "execute_result"
    }
   ],
   "source": [
    "newdf.head()"
   ]
  },
  {
   "cell_type": "code",
   "execution_count": 22,
   "metadata": {},
   "outputs": [
    {
     "data": {
      "text/plain": [
       "0     object\n",
       "1    float64\n",
       "2    float64\n",
       "3    float64\n",
       "4    float64\n",
       "dtype: object"
      ]
     },
     "execution_count": 22,
     "metadata": {},
     "output_type": "execute_result"
    }
   ],
   "source": [
    "newdf.dtypes"
   ]
  },
  {
   "cell_type": "code",
   "execution_count": 23,
   "metadata": {},
   "outputs": [
    {
     "data": {
      "text/plain": [
       "Index([  0,   1,   2,   3,   4,   5,   6,   7,   8,   9,\n",
       "       ...\n",
       "       324, 325, 326, 327, 328, 329, 330, 331, 332, 333],\n",
       "      dtype='int64', length=334)"
      ]
     },
     "execution_count": 23,
     "metadata": {},
     "output_type": "execute_result"
    }
   ],
   "source": [
    "newdf.index"
   ]
  },
  {
   "cell_type": "code",
   "execution_count": 24,
   "metadata": {},
   "outputs": [
    {
     "data": {
      "text/plain": [
       "RangeIndex(start=0, stop=5, step=1)"
      ]
     },
     "execution_count": 24,
     "metadata": {},
     "output_type": "execute_result"
    }
   ],
   "source": [
    "newdf.columns"
   ]
  },
  {
   "cell_type": "code",
   "execution_count": 25,
   "metadata": {},
   "outputs": [],
   "source": [
    "newdf[0][0] = 0.34332"
   ]
  },
  {
   "cell_type": "code",
   "execution_count": 26,
   "metadata": {},
   "outputs": [
    {
     "data": {
      "text/plain": [
       "array([[0.34332, 0.8912916958939532, 0.9735658007902901,\n",
       "        0.28945490820248, 0.3189613010569282],\n",
       "       [0.5154166633002292, 0.3418529634731794, 0.24064829978138957,\n",
       "        0.0437918959353637, 0.37231807488888957],\n",
       "       [0.6474897677574195, 0.26805480223126366, 0.38447501742649226,\n",
       "        0.428747056415018, 0.8450031421507672],\n",
       "       ...,\n",
       "       [0.615826499402229, 0.3689589656612805, 0.7905961305271583,\n",
       "        0.03760177733049275, 0.6881547617548512],\n",
       "       [0.09761124889699235, 0.29380866644247183, 0.09228722339397177,\n",
       "        0.5963514262656519, 0.9837464573786628],\n",
       "       [0.01153587151604496, 0.32959729618036615, 0.5388788071061942,\n",
       "        0.4980369530920681, 0.9360639478909151]],\n",
       "      shape=(334, 5), dtype=object)"
      ]
     },
     "execution_count": 26,
     "metadata": {},
     "output_type": "execute_result"
    }
   ],
   "source": [
    "newdf.to_numpy()"
   ]
  },
  {
   "cell_type": "code",
   "execution_count": 27,
   "metadata": {},
   "outputs": [
    {
     "data": {
      "text/html": [
       "<div>\n",
       "<style scoped>\n",
       "    .dataframe tbody tr th:only-of-type {\n",
       "        vertical-align: middle;\n",
       "    }\n",
       "\n",
       "    .dataframe tbody tr th {\n",
       "        vertical-align: top;\n",
       "    }\n",
       "\n",
       "    .dataframe thead th {\n",
       "        text-align: right;\n",
       "    }\n",
       "</style>\n",
       "<table border=\"1\" class=\"dataframe\">\n",
       "  <thead>\n",
       "    <tr style=\"text-align: right;\">\n",
       "      <th></th>\n",
       "      <th>0</th>\n",
       "      <th>1</th>\n",
       "      <th>2</th>\n",
       "      <th>3</th>\n",
       "      <th>4</th>\n",
       "      <th>5</th>\n",
       "      <th>6</th>\n",
       "      <th>7</th>\n",
       "      <th>8</th>\n",
       "      <th>9</th>\n",
       "      <th>...</th>\n",
       "      <th>324</th>\n",
       "      <th>325</th>\n",
       "      <th>326</th>\n",
       "      <th>327</th>\n",
       "      <th>328</th>\n",
       "      <th>329</th>\n",
       "      <th>330</th>\n",
       "      <th>331</th>\n",
       "      <th>332</th>\n",
       "      <th>333</th>\n",
       "    </tr>\n",
       "  </thead>\n",
       "  <tbody>\n",
       "    <tr>\n",
       "      <th>0</th>\n",
       "      <td>0.34332</td>\n",
       "      <td>0.515417</td>\n",
       "      <td>0.64749</td>\n",
       "      <td>0.137483</td>\n",
       "      <td>0.489166</td>\n",
       "      <td>0.951306</td>\n",
       "      <td>0.923821</td>\n",
       "      <td>0.317267</td>\n",
       "      <td>0.597359</td>\n",
       "      <td>0.333764</td>\n",
       "      <td>...</td>\n",
       "      <td>0.335497</td>\n",
       "      <td>0.465214</td>\n",
       "      <td>0.004238</td>\n",
       "      <td>0.37864</td>\n",
       "      <td>0.972386</td>\n",
       "      <td>0.867812</td>\n",
       "      <td>0.997352</td>\n",
       "      <td>0.615826</td>\n",
       "      <td>0.097611</td>\n",
       "      <td>0.011536</td>\n",
       "    </tr>\n",
       "    <tr>\n",
       "      <th>1</th>\n",
       "      <td>0.891292</td>\n",
       "      <td>0.341853</td>\n",
       "      <td>0.268055</td>\n",
       "      <td>0.321644</td>\n",
       "      <td>0.392016</td>\n",
       "      <td>0.070681</td>\n",
       "      <td>0.216575</td>\n",
       "      <td>0.4508</td>\n",
       "      <td>0.18872</td>\n",
       "      <td>0.755302</td>\n",
       "      <td>...</td>\n",
       "      <td>0.523048</td>\n",
       "      <td>0.334031</td>\n",
       "      <td>0.699173</td>\n",
       "      <td>0.264952</td>\n",
       "      <td>0.631372</td>\n",
       "      <td>0.107837</td>\n",
       "      <td>0.161145</td>\n",
       "      <td>0.368959</td>\n",
       "      <td>0.293809</td>\n",
       "      <td>0.329597</td>\n",
       "    </tr>\n",
       "    <tr>\n",
       "      <th>2</th>\n",
       "      <td>0.973566</td>\n",
       "      <td>0.240648</td>\n",
       "      <td>0.384475</td>\n",
       "      <td>0.994624</td>\n",
       "      <td>0.400191</td>\n",
       "      <td>0.593969</td>\n",
       "      <td>0.414866</td>\n",
       "      <td>0.882732</td>\n",
       "      <td>0.57338</td>\n",
       "      <td>0.934131</td>\n",
       "      <td>...</td>\n",
       "      <td>0.056513</td>\n",
       "      <td>0.055613</td>\n",
       "      <td>0.08891</td>\n",
       "      <td>0.972023</td>\n",
       "      <td>0.246558</td>\n",
       "      <td>0.107332</td>\n",
       "      <td>0.512226</td>\n",
       "      <td>0.790596</td>\n",
       "      <td>0.092287</td>\n",
       "      <td>0.538879</td>\n",
       "    </tr>\n",
       "    <tr>\n",
       "      <th>3</th>\n",
       "      <td>0.289455</td>\n",
       "      <td>0.043792</td>\n",
       "      <td>0.428747</td>\n",
       "      <td>0.368574</td>\n",
       "      <td>0.512641</td>\n",
       "      <td>0.069965</td>\n",
       "      <td>0.449599</td>\n",
       "      <td>0.14448</td>\n",
       "      <td>0.358558</td>\n",
       "      <td>0.746668</td>\n",
       "      <td>...</td>\n",
       "      <td>0.432426</td>\n",
       "      <td>0.596229</td>\n",
       "      <td>0.54832</td>\n",
       "      <td>0.695981</td>\n",
       "      <td>0.459191</td>\n",
       "      <td>0.453864</td>\n",
       "      <td>0.091858</td>\n",
       "      <td>0.037602</td>\n",
       "      <td>0.596351</td>\n",
       "      <td>0.498037</td>\n",
       "    </tr>\n",
       "    <tr>\n",
       "      <th>4</th>\n",
       "      <td>0.318961</td>\n",
       "      <td>0.372318</td>\n",
       "      <td>0.845003</td>\n",
       "      <td>0.97977</td>\n",
       "      <td>0.147883</td>\n",
       "      <td>0.075289</td>\n",
       "      <td>0.889868</td>\n",
       "      <td>0.160211</td>\n",
       "      <td>0.016138</td>\n",
       "      <td>0.496649</td>\n",
       "      <td>...</td>\n",
       "      <td>0.989642</td>\n",
       "      <td>0.562523</td>\n",
       "      <td>0.908819</td>\n",
       "      <td>0.341872</td>\n",
       "      <td>0.896238</td>\n",
       "      <td>0.160772</td>\n",
       "      <td>0.88306</td>\n",
       "      <td>0.688155</td>\n",
       "      <td>0.983746</td>\n",
       "      <td>0.936064</td>\n",
       "    </tr>\n",
       "  </tbody>\n",
       "</table>\n",
       "<p>5 rows × 334 columns</p>\n",
       "</div>"
      ],
      "text/plain": [
       "        0         1         2         3         4         5         6    \\\n",
       "0   0.34332  0.515417   0.64749  0.137483  0.489166  0.951306  0.923821   \n",
       "1  0.891292  0.341853  0.268055  0.321644  0.392016  0.070681  0.216575   \n",
       "2  0.973566  0.240648  0.384475  0.994624  0.400191  0.593969  0.414866   \n",
       "3  0.289455  0.043792  0.428747  0.368574  0.512641  0.069965  0.449599   \n",
       "4  0.318961  0.372318  0.845003   0.97977  0.147883  0.075289  0.889868   \n",
       "\n",
       "        7         8         9    ...       324       325       326       327  \\\n",
       "0  0.317267  0.597359  0.333764  ...  0.335497  0.465214  0.004238   0.37864   \n",
       "1    0.4508   0.18872  0.755302  ...  0.523048  0.334031  0.699173  0.264952   \n",
       "2  0.882732   0.57338  0.934131  ...  0.056513  0.055613   0.08891  0.972023   \n",
       "3   0.14448  0.358558  0.746668  ...  0.432426  0.596229   0.54832  0.695981   \n",
       "4  0.160211  0.016138  0.496649  ...  0.989642  0.562523  0.908819  0.341872   \n",
       "\n",
       "        328       329       330       331       332       333  \n",
       "0  0.972386  0.867812  0.997352  0.615826  0.097611  0.011536  \n",
       "1  0.631372  0.107837  0.161145  0.368959  0.293809  0.329597  \n",
       "2  0.246558  0.107332  0.512226  0.790596  0.092287  0.538879  \n",
       "3  0.459191  0.453864  0.091858  0.037602  0.596351  0.498037  \n",
       "4  0.896238  0.160772   0.88306  0.688155  0.983746  0.936064  \n",
       "\n",
       "[5 rows x 334 columns]"
      ]
     },
     "execution_count": 27,
     "metadata": {},
     "output_type": "execute_result"
    }
   ],
   "source": [
    "newdf.T"
   ]
  },
  {
   "cell_type": "code",
   "execution_count": 29,
   "metadata": {},
   "outputs": [
    {
     "data": {
      "text/html": [
       "<div>\n",
       "<style scoped>\n",
       "    .dataframe tbody tr th:only-of-type {\n",
       "        vertical-align: middle;\n",
       "    }\n",
       "\n",
       "    .dataframe tbody tr th {\n",
       "        vertical-align: top;\n",
       "    }\n",
       "\n",
       "    .dataframe thead th {\n",
       "        text-align: right;\n",
       "    }\n",
       "</style>\n",
       "<table border=\"1\" class=\"dataframe\">\n",
       "  <thead>\n",
       "    <tr style=\"text-align: right;\">\n",
       "      <th></th>\n",
       "      <th>0</th>\n",
       "      <th>1</th>\n",
       "      <th>2</th>\n",
       "      <th>3</th>\n",
       "      <th>4</th>\n",
       "    </tr>\n",
       "  </thead>\n",
       "  <tbody>\n",
       "    <tr>\n",
       "      <th>0</th>\n",
       "      <td>0.34332</td>\n",
       "      <td>0.891292</td>\n",
       "      <td>0.973566</td>\n",
       "      <td>0.289455</td>\n",
       "      <td>0.318961</td>\n",
       "    </tr>\n",
       "    <tr>\n",
       "      <th>1</th>\n",
       "      <td>0.515417</td>\n",
       "      <td>0.341853</td>\n",
       "      <td>0.240648</td>\n",
       "      <td>0.043792</td>\n",
       "      <td>0.372318</td>\n",
       "    </tr>\n",
       "    <tr>\n",
       "      <th>2</th>\n",
       "      <td>0.64749</td>\n",
       "      <td>0.268055</td>\n",
       "      <td>0.384475</td>\n",
       "      <td>0.428747</td>\n",
       "      <td>0.845003</td>\n",
       "    </tr>\n",
       "    <tr>\n",
       "      <th>3</th>\n",
       "      <td>0.137483</td>\n",
       "      <td>0.321644</td>\n",
       "      <td>0.994624</td>\n",
       "      <td>0.368574</td>\n",
       "      <td>0.979770</td>\n",
       "    </tr>\n",
       "    <tr>\n",
       "      <th>4</th>\n",
       "      <td>0.489166</td>\n",
       "      <td>0.392016</td>\n",
       "      <td>0.400191</td>\n",
       "      <td>0.512641</td>\n",
       "      <td>0.147883</td>\n",
       "    </tr>\n",
       "  </tbody>\n",
       "</table>\n",
       "</div>"
      ],
      "text/plain": [
       "          0         1         2         3         4\n",
       "0   0.34332  0.891292  0.973566  0.289455  0.318961\n",
       "1  0.515417  0.341853  0.240648  0.043792  0.372318\n",
       "2   0.64749  0.268055  0.384475  0.428747  0.845003\n",
       "3  0.137483  0.321644  0.994624  0.368574  0.979770\n",
       "4  0.489166  0.392016  0.400191  0.512641  0.147883"
      ]
     },
     "execution_count": 29,
     "metadata": {},
     "output_type": "execute_result"
    }
   ],
   "source": [
    "newdf.head()"
   ]
  },
  {
   "cell_type": "code",
   "execution_count": 30,
   "metadata": {},
   "outputs": [
    {
     "data": {
      "text/html": [
       "<div>\n",
       "<style scoped>\n",
       "    .dataframe tbody tr th:only-of-type {\n",
       "        vertical-align: middle;\n",
       "    }\n",
       "\n",
       "    .dataframe tbody tr th {\n",
       "        vertical-align: top;\n",
       "    }\n",
       "\n",
       "    .dataframe thead th {\n",
       "        text-align: right;\n",
       "    }\n",
       "</style>\n",
       "<table border=\"1\" class=\"dataframe\">\n",
       "  <thead>\n",
       "    <tr style=\"text-align: right;\">\n",
       "      <th></th>\n",
       "      <th>4</th>\n",
       "      <th>3</th>\n",
       "      <th>2</th>\n",
       "      <th>1</th>\n",
       "      <th>0</th>\n",
       "    </tr>\n",
       "  </thead>\n",
       "  <tbody>\n",
       "    <tr>\n",
       "      <th>0</th>\n",
       "      <td>0.318961</td>\n",
       "      <td>0.289455</td>\n",
       "      <td>0.973566</td>\n",
       "      <td>0.891292</td>\n",
       "      <td>0.34332</td>\n",
       "    </tr>\n",
       "    <tr>\n",
       "      <th>1</th>\n",
       "      <td>0.372318</td>\n",
       "      <td>0.043792</td>\n",
       "      <td>0.240648</td>\n",
       "      <td>0.341853</td>\n",
       "      <td>0.515417</td>\n",
       "    </tr>\n",
       "    <tr>\n",
       "      <th>2</th>\n",
       "      <td>0.845003</td>\n",
       "      <td>0.428747</td>\n",
       "      <td>0.384475</td>\n",
       "      <td>0.268055</td>\n",
       "      <td>0.64749</td>\n",
       "    </tr>\n",
       "    <tr>\n",
       "      <th>3</th>\n",
       "      <td>0.979770</td>\n",
       "      <td>0.368574</td>\n",
       "      <td>0.994624</td>\n",
       "      <td>0.321644</td>\n",
       "      <td>0.137483</td>\n",
       "    </tr>\n",
       "    <tr>\n",
       "      <th>4</th>\n",
       "      <td>0.147883</td>\n",
       "      <td>0.512641</td>\n",
       "      <td>0.400191</td>\n",
       "      <td>0.392016</td>\n",
       "      <td>0.489166</td>\n",
       "    </tr>\n",
       "    <tr>\n",
       "      <th>...</th>\n",
       "      <td>...</td>\n",
       "      <td>...</td>\n",
       "      <td>...</td>\n",
       "      <td>...</td>\n",
       "      <td>...</td>\n",
       "    </tr>\n",
       "    <tr>\n",
       "      <th>329</th>\n",
       "      <td>0.160772</td>\n",
       "      <td>0.453864</td>\n",
       "      <td>0.107332</td>\n",
       "      <td>0.107837</td>\n",
       "      <td>0.867812</td>\n",
       "    </tr>\n",
       "    <tr>\n",
       "      <th>330</th>\n",
       "      <td>0.883060</td>\n",
       "      <td>0.091858</td>\n",
       "      <td>0.512226</td>\n",
       "      <td>0.161145</td>\n",
       "      <td>0.997352</td>\n",
       "    </tr>\n",
       "    <tr>\n",
       "      <th>331</th>\n",
       "      <td>0.688155</td>\n",
       "      <td>0.037602</td>\n",
       "      <td>0.790596</td>\n",
       "      <td>0.368959</td>\n",
       "      <td>0.615826</td>\n",
       "    </tr>\n",
       "    <tr>\n",
       "      <th>332</th>\n",
       "      <td>0.983746</td>\n",
       "      <td>0.596351</td>\n",
       "      <td>0.092287</td>\n",
       "      <td>0.293809</td>\n",
       "      <td>0.097611</td>\n",
       "    </tr>\n",
       "    <tr>\n",
       "      <th>333</th>\n",
       "      <td>0.936064</td>\n",
       "      <td>0.498037</td>\n",
       "      <td>0.538879</td>\n",
       "      <td>0.329597</td>\n",
       "      <td>0.011536</td>\n",
       "    </tr>\n",
       "  </tbody>\n",
       "</table>\n",
       "<p>334 rows × 5 columns</p>\n",
       "</div>"
      ],
      "text/plain": [
       "            4         3         2         1         0\n",
       "0    0.318961  0.289455  0.973566  0.891292   0.34332\n",
       "1    0.372318  0.043792  0.240648  0.341853  0.515417\n",
       "2    0.845003  0.428747  0.384475  0.268055   0.64749\n",
       "3    0.979770  0.368574  0.994624  0.321644  0.137483\n",
       "4    0.147883  0.512641  0.400191  0.392016  0.489166\n",
       "..        ...       ...       ...       ...       ...\n",
       "329  0.160772  0.453864  0.107332  0.107837  0.867812\n",
       "330  0.883060  0.091858  0.512226  0.161145  0.997352\n",
       "331  0.688155  0.037602  0.790596  0.368959  0.615826\n",
       "332  0.983746  0.596351  0.092287  0.293809  0.097611\n",
       "333  0.936064  0.498037  0.538879  0.329597  0.011536\n",
       "\n",
       "[334 rows x 5 columns]"
      ]
     },
     "execution_count": 30,
     "metadata": {},
     "output_type": "execute_result"
    }
   ],
   "source": [
    "newdf.sort_index(axis=1, ascending=False)"
   ]
  },
  {
   "cell_type": "code",
   "execution_count": 34,
   "metadata": {},
   "outputs": [],
   "source": [
    "newdf.loc[0,0] = 45842  #proper way of changing values in a dataframe"
   ]
  },
  {
   "cell_type": "code",
   "execution_count": 35,
   "metadata": {},
   "outputs": [
    {
     "data": {
      "text/html": [
       "<div>\n",
       "<style scoped>\n",
       "    .dataframe tbody tr th:only-of-type {\n",
       "        vertical-align: middle;\n",
       "    }\n",
       "\n",
       "    .dataframe tbody tr th {\n",
       "        vertical-align: top;\n",
       "    }\n",
       "\n",
       "    .dataframe thead th {\n",
       "        text-align: right;\n",
       "    }\n",
       "</style>\n",
       "<table border=\"1\" class=\"dataframe\">\n",
       "  <thead>\n",
       "    <tr style=\"text-align: right;\">\n",
       "      <th></th>\n",
       "      <th>0</th>\n",
       "      <th>1</th>\n",
       "      <th>2</th>\n",
       "      <th>3</th>\n",
       "      <th>4</th>\n",
       "    </tr>\n",
       "  </thead>\n",
       "  <tbody>\n",
       "    <tr>\n",
       "      <th>0</th>\n",
       "      <td>45842</td>\n",
       "      <td>0.891292</td>\n",
       "      <td>0.973566</td>\n",
       "      <td>0.289455</td>\n",
       "      <td>0.318961</td>\n",
       "    </tr>\n",
       "    <tr>\n",
       "      <th>1</th>\n",
       "      <td>0.515417</td>\n",
       "      <td>0.341853</td>\n",
       "      <td>0.240648</td>\n",
       "      <td>0.043792</td>\n",
       "      <td>0.372318</td>\n",
       "    </tr>\n",
       "    <tr>\n",
       "      <th>2</th>\n",
       "      <td>0.64749</td>\n",
       "      <td>0.268055</td>\n",
       "      <td>0.384475</td>\n",
       "      <td>0.428747</td>\n",
       "      <td>0.845003</td>\n",
       "    </tr>\n",
       "    <tr>\n",
       "      <th>3</th>\n",
       "      <td>0.137483</td>\n",
       "      <td>0.321644</td>\n",
       "      <td>0.994624</td>\n",
       "      <td>0.368574</td>\n",
       "      <td>0.979770</td>\n",
       "    </tr>\n",
       "    <tr>\n",
       "      <th>4</th>\n",
       "      <td>0.489166</td>\n",
       "      <td>0.392016</td>\n",
       "      <td>0.400191</td>\n",
       "      <td>0.512641</td>\n",
       "      <td>0.147883</td>\n",
       "    </tr>\n",
       "  </tbody>\n",
       "</table>\n",
       "</div>"
      ],
      "text/plain": [
       "          0         1         2         3         4\n",
       "0     45842  0.891292  0.973566  0.289455  0.318961\n",
       "1  0.515417  0.341853  0.240648  0.043792  0.372318\n",
       "2   0.64749  0.268055  0.384475  0.428747  0.845003\n",
       "3  0.137483  0.321644  0.994624  0.368574  0.979770\n",
       "4  0.489166  0.392016  0.400191  0.512641  0.147883"
      ]
     },
     "execution_count": 35,
     "metadata": {},
     "output_type": "execute_result"
    }
   ],
   "source": [
    "newdf.head()"
   ]
  },
  {
   "cell_type": "code",
   "execution_count": 36,
   "metadata": {},
   "outputs": [
    {
     "data": {
      "text/html": [
       "<div>\n",
       "<style scoped>\n",
       "    .dataframe tbody tr th:only-of-type {\n",
       "        vertical-align: middle;\n",
       "    }\n",
       "\n",
       "    .dataframe tbody tr th {\n",
       "        vertical-align: top;\n",
       "    }\n",
       "\n",
       "    .dataframe thead th {\n",
       "        text-align: right;\n",
       "    }\n",
       "</style>\n",
       "<table border=\"1\" class=\"dataframe\">\n",
       "  <thead>\n",
       "    <tr style=\"text-align: right;\">\n",
       "      <th></th>\n",
       "      <th>2</th>\n",
       "      <th>3</th>\n",
       "    </tr>\n",
       "  </thead>\n",
       "  <tbody>\n",
       "    <tr>\n",
       "      <th>2</th>\n",
       "      <td>0.384475</td>\n",
       "      <td>0.428747</td>\n",
       "    </tr>\n",
       "    <tr>\n",
       "      <th>4</th>\n",
       "      <td>0.400191</td>\n",
       "      <td>0.512641</td>\n",
       "    </tr>\n",
       "  </tbody>\n",
       "</table>\n",
       "</div>"
      ],
      "text/plain": [
       "          2         3\n",
       "2  0.384475  0.428747\n",
       "4  0.400191  0.512641"
      ]
     },
     "execution_count": 36,
     "metadata": {},
     "output_type": "execute_result"
    }
   ],
   "source": [
    "newdf.loc[[2,4], [2,3]]"
   ]
  },
  {
   "cell_type": "code",
   "execution_count": 37,
   "metadata": {},
   "outputs": [
    {
     "data": {
      "text/html": [
       "<div>\n",
       "<style scoped>\n",
       "    .dataframe tbody tr th:only-of-type {\n",
       "        vertical-align: middle;\n",
       "    }\n",
       "\n",
       "    .dataframe tbody tr th {\n",
       "        vertical-align: top;\n",
       "    }\n",
       "\n",
       "    .dataframe thead th {\n",
       "        text-align: right;\n",
       "    }\n",
       "</style>\n",
       "<table border=\"1\" class=\"dataframe\">\n",
       "  <thead>\n",
       "    <tr style=\"text-align: right;\">\n",
       "      <th></th>\n",
       "      <th>2</th>\n",
       "      <th>3</th>\n",
       "    </tr>\n",
       "  </thead>\n",
       "  <tbody>\n",
       "    <tr>\n",
       "      <th>0</th>\n",
       "      <td>0.973566</td>\n",
       "      <td>0.289455</td>\n",
       "    </tr>\n",
       "    <tr>\n",
       "      <th>1</th>\n",
       "      <td>0.240648</td>\n",
       "      <td>0.043792</td>\n",
       "    </tr>\n",
       "    <tr>\n",
       "      <th>2</th>\n",
       "      <td>0.384475</td>\n",
       "      <td>0.428747</td>\n",
       "    </tr>\n",
       "    <tr>\n",
       "      <th>3</th>\n",
       "      <td>0.994624</td>\n",
       "      <td>0.368574</td>\n",
       "    </tr>\n",
       "    <tr>\n",
       "      <th>4</th>\n",
       "      <td>0.400191</td>\n",
       "      <td>0.512641</td>\n",
       "    </tr>\n",
       "    <tr>\n",
       "      <th>...</th>\n",
       "      <td>...</td>\n",
       "      <td>...</td>\n",
       "    </tr>\n",
       "    <tr>\n",
       "      <th>329</th>\n",
       "      <td>0.107332</td>\n",
       "      <td>0.453864</td>\n",
       "    </tr>\n",
       "    <tr>\n",
       "      <th>330</th>\n",
       "      <td>0.512226</td>\n",
       "      <td>0.091858</td>\n",
       "    </tr>\n",
       "    <tr>\n",
       "      <th>331</th>\n",
       "      <td>0.790596</td>\n",
       "      <td>0.037602</td>\n",
       "    </tr>\n",
       "    <tr>\n",
       "      <th>332</th>\n",
       "      <td>0.092287</td>\n",
       "      <td>0.596351</td>\n",
       "    </tr>\n",
       "    <tr>\n",
       "      <th>333</th>\n",
       "      <td>0.538879</td>\n",
       "      <td>0.498037</td>\n",
       "    </tr>\n",
       "  </tbody>\n",
       "</table>\n",
       "<p>334 rows × 2 columns</p>\n",
       "</div>"
      ],
      "text/plain": [
       "            2         3\n",
       "0    0.973566  0.289455\n",
       "1    0.240648  0.043792\n",
       "2    0.384475  0.428747\n",
       "3    0.994624  0.368574\n",
       "4    0.400191  0.512641\n",
       "..        ...       ...\n",
       "329  0.107332  0.453864\n",
       "330  0.512226  0.091858\n",
       "331  0.790596  0.037602\n",
       "332  0.092287  0.596351\n",
       "333  0.538879  0.498037\n",
       "\n",
       "[334 rows x 2 columns]"
      ]
     },
     "execution_count": 37,
     "metadata": {},
     "output_type": "execute_result"
    }
   ],
   "source": [
    "newdf.loc[:, [2,3]]"
   ]
  },
  {
   "cell_type": "code",
   "execution_count": 38,
   "metadata": {},
   "outputs": [
    {
     "data": {
      "text/html": [
       "<div>\n",
       "<style scoped>\n",
       "    .dataframe tbody tr th:only-of-type {\n",
       "        vertical-align: middle;\n",
       "    }\n",
       "\n",
       "    .dataframe tbody tr th {\n",
       "        vertical-align: top;\n",
       "    }\n",
       "\n",
       "    .dataframe thead th {\n",
       "        text-align: right;\n",
       "    }\n",
       "</style>\n",
       "<table border=\"1\" class=\"dataframe\">\n",
       "  <thead>\n",
       "    <tr style=\"text-align: right;\">\n",
       "      <th></th>\n",
       "      <th>0</th>\n",
       "      <th>1</th>\n",
       "      <th>2</th>\n",
       "      <th>3</th>\n",
       "      <th>4</th>\n",
       "    </tr>\n",
       "  </thead>\n",
       "  <tbody>\n",
       "    <tr>\n",
       "      <th>2</th>\n",
       "      <td>0.64749</td>\n",
       "      <td>0.268055</td>\n",
       "      <td>0.384475</td>\n",
       "      <td>0.428747</td>\n",
       "      <td>0.845003</td>\n",
       "    </tr>\n",
       "    <tr>\n",
       "      <th>4</th>\n",
       "      <td>0.489166</td>\n",
       "      <td>0.392016</td>\n",
       "      <td>0.400191</td>\n",
       "      <td>0.512641</td>\n",
       "      <td>0.147883</td>\n",
       "    </tr>\n",
       "  </tbody>\n",
       "</table>\n",
       "</div>"
      ],
      "text/plain": [
       "          0         1         2         3         4\n",
       "2   0.64749  0.268055  0.384475  0.428747  0.845003\n",
       "4  0.489166  0.392016  0.400191  0.512641  0.147883"
      ]
     },
     "execution_count": 38,
     "metadata": {},
     "output_type": "execute_result"
    }
   ],
   "source": [
    "newdf.loc[[2,4], :]"
   ]
  },
  {
   "cell_type": "code",
   "execution_count": 40,
   "metadata": {},
   "outputs": [
    {
     "data": {
      "text/html": [
       "<div>\n",
       "<style scoped>\n",
       "    .dataframe tbody tr th:only-of-type {\n",
       "        vertical-align: middle;\n",
       "    }\n",
       "\n",
       "    .dataframe tbody tr th {\n",
       "        vertical-align: top;\n",
       "    }\n",
       "\n",
       "    .dataframe thead th {\n",
       "        text-align: right;\n",
       "    }\n",
       "</style>\n",
       "<table border=\"1\" class=\"dataframe\">\n",
       "  <thead>\n",
       "    <tr style=\"text-align: right;\">\n",
       "      <th></th>\n",
       "      <th>0</th>\n",
       "      <th>1</th>\n",
       "      <th>2</th>\n",
       "      <th>3</th>\n",
       "      <th>4</th>\n",
       "    </tr>\n",
       "  </thead>\n",
       "  <tbody>\n",
       "    <tr>\n",
       "      <th>3</th>\n",
       "      <td>0.137483</td>\n",
       "      <td>0.321644</td>\n",
       "      <td>0.994624</td>\n",
       "      <td>0.368574</td>\n",
       "      <td>0.979770</td>\n",
       "    </tr>\n",
       "    <tr>\n",
       "      <th>10</th>\n",
       "      <td>0.126518</td>\n",
       "      <td>0.416458</td>\n",
       "      <td>0.063460</td>\n",
       "      <td>0.217656</td>\n",
       "      <td>0.515678</td>\n",
       "    </tr>\n",
       "    <tr>\n",
       "      <th>11</th>\n",
       "      <td>0.047872</td>\n",
       "      <td>0.046741</td>\n",
       "      <td>0.093479</td>\n",
       "      <td>0.557406</td>\n",
       "      <td>0.320978</td>\n",
       "    </tr>\n",
       "    <tr>\n",
       "      <th>12</th>\n",
       "      <td>0.177465</td>\n",
       "      <td>0.901549</td>\n",
       "      <td>0.241848</td>\n",
       "      <td>0.314082</td>\n",
       "      <td>0.538196</td>\n",
       "    </tr>\n",
       "    <tr>\n",
       "      <th>15</th>\n",
       "      <td>0.153093</td>\n",
       "      <td>0.098756</td>\n",
       "      <td>0.984812</td>\n",
       "      <td>0.047836</td>\n",
       "      <td>0.404126</td>\n",
       "    </tr>\n",
       "    <tr>\n",
       "      <th>...</th>\n",
       "      <td>...</td>\n",
       "      <td>...</td>\n",
       "      <td>...</td>\n",
       "      <td>...</td>\n",
       "      <td>...</td>\n",
       "    </tr>\n",
       "    <tr>\n",
       "      <th>321</th>\n",
       "      <td>0.055029</td>\n",
       "      <td>0.356965</td>\n",
       "      <td>0.557299</td>\n",
       "      <td>0.115032</td>\n",
       "      <td>0.053987</td>\n",
       "    </tr>\n",
       "    <tr>\n",
       "      <th>323</th>\n",
       "      <td>0.234647</td>\n",
       "      <td>0.023009</td>\n",
       "      <td>0.701408</td>\n",
       "      <td>0.960196</td>\n",
       "      <td>0.831155</td>\n",
       "    </tr>\n",
       "    <tr>\n",
       "      <th>326</th>\n",
       "      <td>0.004238</td>\n",
       "      <td>0.699173</td>\n",
       "      <td>0.088910</td>\n",
       "      <td>0.548320</td>\n",
       "      <td>0.908819</td>\n",
       "    </tr>\n",
       "    <tr>\n",
       "      <th>332</th>\n",
       "      <td>0.097611</td>\n",
       "      <td>0.293809</td>\n",
       "      <td>0.092287</td>\n",
       "      <td>0.596351</td>\n",
       "      <td>0.983746</td>\n",
       "    </tr>\n",
       "    <tr>\n",
       "      <th>333</th>\n",
       "      <td>0.011536</td>\n",
       "      <td>0.329597</td>\n",
       "      <td>0.538879</td>\n",
       "      <td>0.498037</td>\n",
       "      <td>0.936064</td>\n",
       "    </tr>\n",
       "  </tbody>\n",
       "</table>\n",
       "<p>101 rows × 5 columns</p>\n",
       "</div>"
      ],
      "text/plain": [
       "            0         1         2         3         4\n",
       "3    0.137483  0.321644  0.994624  0.368574  0.979770\n",
       "10   0.126518  0.416458  0.063460  0.217656  0.515678\n",
       "11   0.047872  0.046741  0.093479  0.557406  0.320978\n",
       "12   0.177465  0.901549  0.241848  0.314082  0.538196\n",
       "15   0.153093  0.098756  0.984812  0.047836  0.404126\n",
       "..        ...       ...       ...       ...       ...\n",
       "321  0.055029  0.356965  0.557299  0.115032  0.053987\n",
       "323  0.234647  0.023009  0.701408  0.960196  0.831155\n",
       "326  0.004238  0.699173  0.088910  0.548320  0.908819\n",
       "332  0.097611  0.293809  0.092287  0.596351  0.983746\n",
       "333  0.011536  0.329597  0.538879  0.498037  0.936064\n",
       "\n",
       "[101 rows x 5 columns]"
      ]
     },
     "execution_count": 40,
     "metadata": {},
     "output_type": "execute_result"
    }
   ],
   "source": [
    "newdf.loc[(newdf[0]<0.3)]     #returns rows where condition is true"
   ]
  },
  {
   "cell_type": "code",
   "execution_count": 41,
   "metadata": {},
   "outputs": [
    {
     "data": {
      "text/html": [
       "<div>\n",
       "<style scoped>\n",
       "    .dataframe tbody tr th:only-of-type {\n",
       "        vertical-align: middle;\n",
       "    }\n",
       "\n",
       "    .dataframe tbody tr th {\n",
       "        vertical-align: top;\n",
       "    }\n",
       "\n",
       "    .dataframe thead th {\n",
       "        text-align: right;\n",
       "    }\n",
       "</style>\n",
       "<table border=\"1\" class=\"dataframe\">\n",
       "  <thead>\n",
       "    <tr style=\"text-align: right;\">\n",
       "      <th></th>\n",
       "      <th>0</th>\n",
       "      <th>1</th>\n",
       "      <th>2</th>\n",
       "      <th>3</th>\n",
       "      <th>4</th>\n",
       "    </tr>\n",
       "  </thead>\n",
       "  <tbody>\n",
       "    <tr>\n",
       "      <th>0</th>\n",
       "      <td>45842</td>\n",
       "      <td>0.891292</td>\n",
       "      <td>0.973566</td>\n",
       "      <td>0.289455</td>\n",
       "      <td>0.318961</td>\n",
       "    </tr>\n",
       "    <tr>\n",
       "      <th>1</th>\n",
       "      <td>0.515417</td>\n",
       "      <td>0.341853</td>\n",
       "      <td>0.240648</td>\n",
       "      <td>0.043792</td>\n",
       "      <td>0.372318</td>\n",
       "    </tr>\n",
       "    <tr>\n",
       "      <th>2</th>\n",
       "      <td>0.64749</td>\n",
       "      <td>0.268055</td>\n",
       "      <td>0.384475</td>\n",
       "      <td>0.428747</td>\n",
       "      <td>0.845003</td>\n",
       "    </tr>\n",
       "    <tr>\n",
       "      <th>3</th>\n",
       "      <td>0.137483</td>\n",
       "      <td>0.321644</td>\n",
       "      <td>0.994624</td>\n",
       "      <td>0.368574</td>\n",
       "      <td>0.979770</td>\n",
       "    </tr>\n",
       "    <tr>\n",
       "      <th>4</th>\n",
       "      <td>0.489166</td>\n",
       "      <td>0.392016</td>\n",
       "      <td>0.400191</td>\n",
       "      <td>0.512641</td>\n",
       "      <td>0.147883</td>\n",
       "    </tr>\n",
       "  </tbody>\n",
       "</table>\n",
       "</div>"
      ],
      "text/plain": [
       "          0         1         2         3         4\n",
       "0     45842  0.891292  0.973566  0.289455  0.318961\n",
       "1  0.515417  0.341853  0.240648  0.043792  0.372318\n",
       "2   0.64749  0.268055  0.384475  0.428747  0.845003\n",
       "3  0.137483  0.321644  0.994624  0.368574  0.979770\n",
       "4  0.489166  0.392016  0.400191  0.512641  0.147883"
      ]
     },
     "execution_count": 41,
     "metadata": {},
     "output_type": "execute_result"
    }
   ],
   "source": [
    "newdf.head()"
   ]
  },
  {
   "cell_type": "code",
   "execution_count": 42,
   "metadata": {},
   "outputs": [
    {
     "data": {
      "text/plain": [
       "np.float64(0.0437918959353637)"
      ]
     },
     "execution_count": 42,
     "metadata": {},
     "output_type": "execute_result"
    }
   ],
   "source": [
    "newdf.iloc[1,3]"
   ]
  },
  {
   "cell_type": "code",
   "execution_count": 11,
   "metadata": {},
   "outputs": [
    {
     "ename": "NameError",
     "evalue": "name 'newdf' is not defined",
     "output_type": "error",
     "traceback": [
      "\u001b[31m---------------------------------------------------------------------------\u001b[39m",
      "\u001b[31mNameError\u001b[39m                                 Traceback (most recent call last)",
      "\u001b[36mCell\u001b[39m\u001b[36m \u001b[39m\u001b[32mIn[11]\u001b[39m\u001b[32m, line 1\u001b[39m\n\u001b[32m----> \u001b[39m\u001b[32m1\u001b[39m \u001b[43mnewdf\u001b[49m.drop([\u001b[32m1\u001b[39m], axis=\u001b[32m1\u001b[39m)     \u001b[38;5;66;03m#doesnt change the original df. returns a copy\u001b[39;00m\n",
      "\u001b[31mNameError\u001b[39m: name 'newdf' is not defined"
     ]
    }
   ],
   "source": [
    "newdf.drop([1], axis=1)     #doesnt change the original df. returns a copy"
   ]
  },
  {
   "cell_type": "code",
   "execution_count": 48,
   "metadata": {},
   "outputs": [],
   "source": [
    "newdf.drop([4, 7], inplace=True)     #drops in the original dataframe"
   ]
  },
  {
   "cell_type": "code",
   "execution_count": 5,
   "metadata": {},
   "outputs": [],
   "source": [
    "mydf = pd.DataFrame(np.random.rand(100,5), index=np.arange(100))"
   ]
  },
  {
   "cell_type": "code",
   "execution_count": 6,
   "metadata": {},
   "outputs": [
    {
     "data": {
      "text/html": [
       "<div>\n",
       "<style scoped>\n",
       "    .dataframe tbody tr th:only-of-type {\n",
       "        vertical-align: middle;\n",
       "    }\n",
       "\n",
       "    .dataframe tbody tr th {\n",
       "        vertical-align: top;\n",
       "    }\n",
       "\n",
       "    .dataframe thead th {\n",
       "        text-align: right;\n",
       "    }\n",
       "</style>\n",
       "<table border=\"1\" class=\"dataframe\">\n",
       "  <thead>\n",
       "    <tr style=\"text-align: right;\">\n",
       "      <th></th>\n",
       "      <th>0</th>\n",
       "      <th>1</th>\n",
       "      <th>2</th>\n",
       "      <th>3</th>\n",
       "      <th>4</th>\n",
       "    </tr>\n",
       "  </thead>\n",
       "  <tbody>\n",
       "    <tr>\n",
       "      <th>0</th>\n",
       "      <td>0.745166</td>\n",
       "      <td>0.480143</td>\n",
       "      <td>0.679695</td>\n",
       "      <td>0.294581</td>\n",
       "      <td>0.178031</td>\n",
       "    </tr>\n",
       "    <tr>\n",
       "      <th>1</th>\n",
       "      <td>0.977292</td>\n",
       "      <td>0.384741</td>\n",
       "      <td>0.135173</td>\n",
       "      <td>0.024576</td>\n",
       "      <td>0.945950</td>\n",
       "    </tr>\n",
       "    <tr>\n",
       "      <th>2</th>\n",
       "      <td>0.252155</td>\n",
       "      <td>0.974645</td>\n",
       "      <td>0.542432</td>\n",
       "      <td>0.243143</td>\n",
       "      <td>0.782232</td>\n",
       "    </tr>\n",
       "    <tr>\n",
       "      <th>3</th>\n",
       "      <td>0.004608</td>\n",
       "      <td>0.597753</td>\n",
       "      <td>0.016844</td>\n",
       "      <td>0.854841</td>\n",
       "      <td>0.076963</td>\n",
       "    </tr>\n",
       "    <tr>\n",
       "      <th>4</th>\n",
       "      <td>0.597327</td>\n",
       "      <td>0.548036</td>\n",
       "      <td>0.259321</td>\n",
       "      <td>0.478961</td>\n",
       "      <td>0.691604</td>\n",
       "    </tr>\n",
       "    <tr>\n",
       "      <th>...</th>\n",
       "      <td>...</td>\n",
       "      <td>...</td>\n",
       "      <td>...</td>\n",
       "      <td>...</td>\n",
       "      <td>...</td>\n",
       "    </tr>\n",
       "    <tr>\n",
       "      <th>95</th>\n",
       "      <td>0.214189</td>\n",
       "      <td>0.919655</td>\n",
       "      <td>0.670249</td>\n",
       "      <td>0.507471</td>\n",
       "      <td>0.949358</td>\n",
       "    </tr>\n",
       "    <tr>\n",
       "      <th>96</th>\n",
       "      <td>0.529320</td>\n",
       "      <td>0.136368</td>\n",
       "      <td>0.118343</td>\n",
       "      <td>0.779710</td>\n",
       "      <td>0.044562</td>\n",
       "    </tr>\n",
       "    <tr>\n",
       "      <th>97</th>\n",
       "      <td>0.249860</td>\n",
       "      <td>0.130264</td>\n",
       "      <td>0.944391</td>\n",
       "      <td>0.143153</td>\n",
       "      <td>0.402532</td>\n",
       "    </tr>\n",
       "    <tr>\n",
       "      <th>98</th>\n",
       "      <td>0.677192</td>\n",
       "      <td>0.446581</td>\n",
       "      <td>0.830792</td>\n",
       "      <td>0.556944</td>\n",
       "      <td>0.467456</td>\n",
       "    </tr>\n",
       "    <tr>\n",
       "      <th>99</th>\n",
       "      <td>0.671285</td>\n",
       "      <td>0.653849</td>\n",
       "      <td>0.308010</td>\n",
       "      <td>0.090084</td>\n",
       "      <td>0.897224</td>\n",
       "    </tr>\n",
       "  </tbody>\n",
       "</table>\n",
       "<p>100 rows × 5 columns</p>\n",
       "</div>"
      ],
      "text/plain": [
       "           0         1         2         3         4\n",
       "0   0.745166  0.480143  0.679695  0.294581  0.178031\n",
       "1   0.977292  0.384741  0.135173  0.024576  0.945950\n",
       "2   0.252155  0.974645  0.542432  0.243143  0.782232\n",
       "3   0.004608  0.597753  0.016844  0.854841  0.076963\n",
       "4   0.597327  0.548036  0.259321  0.478961  0.691604\n",
       "..       ...       ...       ...       ...       ...\n",
       "95  0.214189  0.919655  0.670249  0.507471  0.949358\n",
       "96  0.529320  0.136368  0.118343  0.779710  0.044562\n",
       "97  0.249860  0.130264  0.944391  0.143153  0.402532\n",
       "98  0.677192  0.446581  0.830792  0.556944  0.467456\n",
       "99  0.671285  0.653849  0.308010  0.090084  0.897224\n",
       "\n",
       "[100 rows x 5 columns]"
      ]
     },
     "execution_count": 6,
     "metadata": {},
     "output_type": "execute_result"
    }
   ],
   "source": [
    "mydf"
   ]
  },
  {
   "cell_type": "code",
   "execution_count": 7,
   "metadata": {},
   "outputs": [],
   "source": [
    "mydf.drop([1,5], axis=0, inplace=True)"
   ]
  },
  {
   "cell_type": "code",
   "execution_count": 8,
   "metadata": {},
   "outputs": [
    {
     "data": {
      "text/html": [
       "<div>\n",
       "<style scoped>\n",
       "    .dataframe tbody tr th:only-of-type {\n",
       "        vertical-align: middle;\n",
       "    }\n",
       "\n",
       "    .dataframe tbody tr th {\n",
       "        vertical-align: top;\n",
       "    }\n",
       "\n",
       "    .dataframe thead th {\n",
       "        text-align: right;\n",
       "    }\n",
       "</style>\n",
       "<table border=\"1\" class=\"dataframe\">\n",
       "  <thead>\n",
       "    <tr style=\"text-align: right;\">\n",
       "      <th></th>\n",
       "      <th>0</th>\n",
       "      <th>1</th>\n",
       "      <th>2</th>\n",
       "      <th>3</th>\n",
       "      <th>4</th>\n",
       "    </tr>\n",
       "  </thead>\n",
       "  <tbody>\n",
       "    <tr>\n",
       "      <th>0</th>\n",
       "      <td>0.745166</td>\n",
       "      <td>0.480143</td>\n",
       "      <td>0.679695</td>\n",
       "      <td>0.294581</td>\n",
       "      <td>0.178031</td>\n",
       "    </tr>\n",
       "    <tr>\n",
       "      <th>2</th>\n",
       "      <td>0.252155</td>\n",
       "      <td>0.974645</td>\n",
       "      <td>0.542432</td>\n",
       "      <td>0.243143</td>\n",
       "      <td>0.782232</td>\n",
       "    </tr>\n",
       "    <tr>\n",
       "      <th>3</th>\n",
       "      <td>0.004608</td>\n",
       "      <td>0.597753</td>\n",
       "      <td>0.016844</td>\n",
       "      <td>0.854841</td>\n",
       "      <td>0.076963</td>\n",
       "    </tr>\n",
       "    <tr>\n",
       "      <th>4</th>\n",
       "      <td>0.597327</td>\n",
       "      <td>0.548036</td>\n",
       "      <td>0.259321</td>\n",
       "      <td>0.478961</td>\n",
       "      <td>0.691604</td>\n",
       "    </tr>\n",
       "    <tr>\n",
       "      <th>6</th>\n",
       "      <td>0.831897</td>\n",
       "      <td>0.448356</td>\n",
       "      <td>0.932937</td>\n",
       "      <td>0.559783</td>\n",
       "      <td>0.719241</td>\n",
       "    </tr>\n",
       "    <tr>\n",
       "      <th>7</th>\n",
       "      <td>0.979719</td>\n",
       "      <td>0.553045</td>\n",
       "      <td>0.291977</td>\n",
       "      <td>0.800865</td>\n",
       "      <td>0.383298</td>\n",
       "    </tr>\n",
       "    <tr>\n",
       "      <th>8</th>\n",
       "      <td>0.373171</td>\n",
       "      <td>0.592176</td>\n",
       "      <td>0.314632</td>\n",
       "      <td>0.190523</td>\n",
       "      <td>0.773398</td>\n",
       "    </tr>\n",
       "  </tbody>\n",
       "</table>\n",
       "</div>"
      ],
      "text/plain": [
       "          0         1         2         3         4\n",
       "0  0.745166  0.480143  0.679695  0.294581  0.178031\n",
       "2  0.252155  0.974645  0.542432  0.243143  0.782232\n",
       "3  0.004608  0.597753  0.016844  0.854841  0.076963\n",
       "4  0.597327  0.548036  0.259321  0.478961  0.691604\n",
       "6  0.831897  0.448356  0.932937  0.559783  0.719241\n",
       "7  0.979719  0.553045  0.291977  0.800865  0.383298\n",
       "8  0.373171  0.592176  0.314632  0.190523  0.773398"
      ]
     },
     "execution_count": 8,
     "metadata": {},
     "output_type": "execute_result"
    }
   ],
   "source": [
    "mydf.head(7)"
   ]
  },
  {
   "cell_type": "code",
   "execution_count": 9,
   "metadata": {},
   "outputs": [],
   "source": [
    "mydf.reset_index(drop=True, inplace=True)"
   ]
  },
  {
   "cell_type": "code",
   "execution_count": 10,
   "metadata": {},
   "outputs": [
    {
     "data": {
      "text/html": [
       "<div>\n",
       "<style scoped>\n",
       "    .dataframe tbody tr th:only-of-type {\n",
       "        vertical-align: middle;\n",
       "    }\n",
       "\n",
       "    .dataframe tbody tr th {\n",
       "        vertical-align: top;\n",
       "    }\n",
       "\n",
       "    .dataframe thead th {\n",
       "        text-align: right;\n",
       "    }\n",
       "</style>\n",
       "<table border=\"1\" class=\"dataframe\">\n",
       "  <thead>\n",
       "    <tr style=\"text-align: right;\">\n",
       "      <th></th>\n",
       "      <th>0</th>\n",
       "      <th>1</th>\n",
       "      <th>2</th>\n",
       "      <th>3</th>\n",
       "      <th>4</th>\n",
       "    </tr>\n",
       "  </thead>\n",
       "  <tbody>\n",
       "    <tr>\n",
       "      <th>0</th>\n",
       "      <td>0.745166</td>\n",
       "      <td>0.480143</td>\n",
       "      <td>0.679695</td>\n",
       "      <td>0.294581</td>\n",
       "      <td>0.178031</td>\n",
       "    </tr>\n",
       "    <tr>\n",
       "      <th>1</th>\n",
       "      <td>0.252155</td>\n",
       "      <td>0.974645</td>\n",
       "      <td>0.542432</td>\n",
       "      <td>0.243143</td>\n",
       "      <td>0.782232</td>\n",
       "    </tr>\n",
       "    <tr>\n",
       "      <th>2</th>\n",
       "      <td>0.004608</td>\n",
       "      <td>0.597753</td>\n",
       "      <td>0.016844</td>\n",
       "      <td>0.854841</td>\n",
       "      <td>0.076963</td>\n",
       "    </tr>\n",
       "    <tr>\n",
       "      <th>3</th>\n",
       "      <td>0.597327</td>\n",
       "      <td>0.548036</td>\n",
       "      <td>0.259321</td>\n",
       "      <td>0.478961</td>\n",
       "      <td>0.691604</td>\n",
       "    </tr>\n",
       "    <tr>\n",
       "      <th>4</th>\n",
       "      <td>0.831897</td>\n",
       "      <td>0.448356</td>\n",
       "      <td>0.932937</td>\n",
       "      <td>0.559783</td>\n",
       "      <td>0.719241</td>\n",
       "    </tr>\n",
       "    <tr>\n",
       "      <th>5</th>\n",
       "      <td>0.979719</td>\n",
       "      <td>0.553045</td>\n",
       "      <td>0.291977</td>\n",
       "      <td>0.800865</td>\n",
       "      <td>0.383298</td>\n",
       "    </tr>\n",
       "    <tr>\n",
       "      <th>6</th>\n",
       "      <td>0.373171</td>\n",
       "      <td>0.592176</td>\n",
       "      <td>0.314632</td>\n",
       "      <td>0.190523</td>\n",
       "      <td>0.773398</td>\n",
       "    </tr>\n",
       "  </tbody>\n",
       "</table>\n",
       "</div>"
      ],
      "text/plain": [
       "          0         1         2         3         4\n",
       "0  0.745166  0.480143  0.679695  0.294581  0.178031\n",
       "1  0.252155  0.974645  0.542432  0.243143  0.782232\n",
       "2  0.004608  0.597753  0.016844  0.854841  0.076963\n",
       "3  0.597327  0.548036  0.259321  0.478961  0.691604\n",
       "4  0.831897  0.448356  0.932937  0.559783  0.719241\n",
       "5  0.979719  0.553045  0.291977  0.800865  0.383298\n",
       "6  0.373171  0.592176  0.314632  0.190523  0.773398"
      ]
     },
     "execution_count": 10,
     "metadata": {},
     "output_type": "execute_result"
    }
   ],
   "source": [
    "mydf.head(7)"
   ]
  },
  {
   "cell_type": "code",
   "execution_count": 13,
   "metadata": {},
   "outputs": [
    {
     "ename": "ValueError",
     "evalue": "low >= high",
     "output_type": "error",
     "traceback": [
      "\u001b[31m---------------------------------------------------------------------------\u001b[39m",
      "\u001b[31mValueError\u001b[39m                                Traceback (most recent call last)",
      "\u001b[36mCell\u001b[39m\u001b[36m \u001b[39m\u001b[32mIn[13]\u001b[39m\u001b[32m, line 1\u001b[39m\n\u001b[32m----> \u001b[39m\u001b[32m1\u001b[39m df = pd.DataFrame(\u001b[43mnp\u001b[49m\u001b[43m.\u001b[49m\u001b[43mrandom\u001b[49m\u001b[43m.\u001b[49m\u001b[43mrandint\u001b[49m\u001b[43m(\u001b[49m\u001b[32;43m3\u001b[39;49m\u001b[43m,\u001b[49m\u001b[43m \u001b[49m\u001b[32;43m2\u001b[39;49m\u001b[43m)\u001b[49m)\n\u001b[32m      2\u001b[39m df\n",
      "\u001b[36mFile \u001b[39m\u001b[32mnumpy/random/mtrand.pyx:796\u001b[39m, in \u001b[36mnumpy.random.mtrand.RandomState.randint\u001b[39m\u001b[34m()\u001b[39m\n",
      "\u001b[36mFile \u001b[39m\u001b[32mnumpy/random/_bounded_integers.pyx:1334\u001b[39m, in \u001b[36mnumpy.random._bounded_integers._rand_int64\u001b[39m\u001b[34m()\u001b[39m\n",
      "\u001b[31mValueError\u001b[39m: low >= high"
     ]
    }
   ],
   "source": [
    "df = pd.DataFrame(np.random.randint(3, 2))\n",
    "df"
   ]
  },
  {
   "cell_type": "code",
   "execution_count": 15,
   "metadata": {},
   "outputs": [],
   "source": [
    "mydf2 = pd.DataFrame(np.random.randint(0, 20, size=(3,2)))"
   ]
  },
  {
   "cell_type": "code",
   "execution_count": 16,
   "metadata": {},
   "outputs": [
    {
     "data": {
      "text/html": [
       "<div>\n",
       "<style scoped>\n",
       "    .dataframe tbody tr th:only-of-type {\n",
       "        vertical-align: middle;\n",
       "    }\n",
       "\n",
       "    .dataframe tbody tr th {\n",
       "        vertical-align: top;\n",
       "    }\n",
       "\n",
       "    .dataframe thead th {\n",
       "        text-align: right;\n",
       "    }\n",
       "</style>\n",
       "<table border=\"1\" class=\"dataframe\">\n",
       "  <thead>\n",
       "    <tr style=\"text-align: right;\">\n",
       "      <th></th>\n",
       "      <th>0</th>\n",
       "      <th>1</th>\n",
       "    </tr>\n",
       "  </thead>\n",
       "  <tbody>\n",
       "    <tr>\n",
       "      <th>0</th>\n",
       "      <td>0</td>\n",
       "      <td>17</td>\n",
       "    </tr>\n",
       "    <tr>\n",
       "      <th>1</th>\n",
       "      <td>7</td>\n",
       "      <td>14</td>\n",
       "    </tr>\n",
       "    <tr>\n",
       "      <th>2</th>\n",
       "      <td>13</td>\n",
       "      <td>17</td>\n",
       "    </tr>\n",
       "  </tbody>\n",
       "</table>\n",
       "</div>"
      ],
      "text/plain": [
       "    0   1\n",
       "0   0  17\n",
       "1   7  14\n",
       "2  13  17"
      ]
     },
     "execution_count": 16,
     "metadata": {},
     "output_type": "execute_result"
    }
   ],
   "source": [
    "mydf2"
   ]
  },
  {
   "cell_type": "code",
   "execution_count": 17,
   "metadata": {},
   "outputs": [
    {
     "data": {
      "text/html": [
       "<div>\n",
       "<style scoped>\n",
       "    .dataframe tbody tr th:only-of-type {\n",
       "        vertical-align: middle;\n",
       "    }\n",
       "\n",
       "    .dataframe tbody tr th {\n",
       "        vertical-align: top;\n",
       "    }\n",
       "\n",
       "    .dataframe thead th {\n",
       "        text-align: right;\n",
       "    }\n",
       "</style>\n",
       "<table border=\"1\" class=\"dataframe\">\n",
       "  <thead>\n",
       "    <tr style=\"text-align: right;\">\n",
       "      <th></th>\n",
       "      <th>0</th>\n",
       "      <th>1</th>\n",
       "    </tr>\n",
       "  </thead>\n",
       "  <tbody>\n",
       "    <tr>\n",
       "      <th>count</th>\n",
       "      <td>3.000000</td>\n",
       "      <td>3.000000</td>\n",
       "    </tr>\n",
       "    <tr>\n",
       "      <th>mean</th>\n",
       "      <td>6.666667</td>\n",
       "      <td>16.000000</td>\n",
       "    </tr>\n",
       "    <tr>\n",
       "      <th>std</th>\n",
       "      <td>6.506407</td>\n",
       "      <td>1.732051</td>\n",
       "    </tr>\n",
       "    <tr>\n",
       "      <th>min</th>\n",
       "      <td>0.000000</td>\n",
       "      <td>14.000000</td>\n",
       "    </tr>\n",
       "    <tr>\n",
       "      <th>25%</th>\n",
       "      <td>3.500000</td>\n",
       "      <td>15.500000</td>\n",
       "    </tr>\n",
       "    <tr>\n",
       "      <th>50%</th>\n",
       "      <td>7.000000</td>\n",
       "      <td>17.000000</td>\n",
       "    </tr>\n",
       "    <tr>\n",
       "      <th>75%</th>\n",
       "      <td>10.000000</td>\n",
       "      <td>17.000000</td>\n",
       "    </tr>\n",
       "    <tr>\n",
       "      <th>max</th>\n",
       "      <td>13.000000</td>\n",
       "      <td>17.000000</td>\n",
       "    </tr>\n",
       "  </tbody>\n",
       "</table>\n",
       "</div>"
      ],
      "text/plain": [
       "               0          1\n",
       "count   3.000000   3.000000\n",
       "mean    6.666667  16.000000\n",
       "std     6.506407   1.732051\n",
       "min     0.000000  14.000000\n",
       "25%     3.500000  15.500000\n",
       "50%     7.000000  17.000000\n",
       "75%    10.000000  17.000000\n",
       "max    13.000000  17.000000"
      ]
     },
     "execution_count": 17,
     "metadata": {},
     "output_type": "execute_result"
    }
   ],
   "source": [
    "mydf2.describe()"
   ]
  },
  {
   "cell_type": "code",
   "execution_count": 18,
   "metadata": {},
   "outputs": [
    {
     "data": {
      "text/plain": [
       "0     6.666667\n",
       "1    16.000000\n",
       "dtype: float64"
      ]
     },
     "execution_count": 18,
     "metadata": {},
     "output_type": "execute_result"
    }
   ],
   "source": [
    "mydf2.mean()"
   ]
  },
  {
   "cell_type": "code",
   "execution_count": 19,
   "metadata": {},
   "outputs": [
    {
     "data": {
      "text/html": [
       "<div>\n",
       "<style scoped>\n",
       "    .dataframe tbody tr th:only-of-type {\n",
       "        vertical-align: middle;\n",
       "    }\n",
       "\n",
       "    .dataframe tbody tr th {\n",
       "        vertical-align: top;\n",
       "    }\n",
       "\n",
       "    .dataframe thead th {\n",
       "        text-align: right;\n",
       "    }\n",
       "</style>\n",
       "<table border=\"1\" class=\"dataframe\">\n",
       "  <thead>\n",
       "    <tr style=\"text-align: right;\">\n",
       "      <th></th>\n",
       "      <th>0</th>\n",
       "      <th>1</th>\n",
       "    </tr>\n",
       "  </thead>\n",
       "  <tbody>\n",
       "    <tr>\n",
       "      <th>0</th>\n",
       "      <td>1.000000</td>\n",
       "      <td>-0.044368</td>\n",
       "    </tr>\n",
       "    <tr>\n",
       "      <th>1</th>\n",
       "      <td>-0.044368</td>\n",
       "      <td>1.000000</td>\n",
       "    </tr>\n",
       "  </tbody>\n",
       "</table>\n",
       "</div>"
      ],
      "text/plain": [
       "          0         1\n",
       "0  1.000000 -0.044368\n",
       "1 -0.044368  1.000000"
      ]
     },
     "execution_count": 19,
     "metadata": {},
     "output_type": "execute_result"
    }
   ],
   "source": [
    "mydf2.corr()"
   ]
  },
  {
   "cell_type": "code",
   "execution_count": 20,
   "metadata": {},
   "outputs": [
    {
     "data": {
      "text/plain": [
       "0    3\n",
       "1    3\n",
       "dtype: int64"
      ]
     },
     "execution_count": 20,
     "metadata": {},
     "output_type": "execute_result"
    }
   ],
   "source": [
    "mydf2.count()"
   ]
  },
  {
   "cell_type": "code",
   "execution_count": 21,
   "metadata": {},
   "outputs": [
    {
     "data": {
      "text/plain": [
       "0    13\n",
       "1    17\n",
       "dtype: int64"
      ]
     },
     "execution_count": 21,
     "metadata": {},
     "output_type": "execute_result"
    }
   ],
   "source": [
    "mydf2.max()"
   ]
  },
  {
   "cell_type": "code",
   "execution_count": 22,
   "metadata": {},
   "outputs": [
    {
     "data": {
      "text/plain": [
       "0     0\n",
       "1    14\n",
       "dtype: int64"
      ]
     },
     "execution_count": 22,
     "metadata": {},
     "output_type": "execute_result"
    }
   ],
   "source": [
    "mydf2.min()"
   ]
  },
  {
   "cell_type": "code",
   "execution_count": 23,
   "metadata": {},
   "outputs": [
    {
     "data": {
      "text/plain": [
       "0     7.0\n",
       "1    17.0\n",
       "dtype: float64"
      ]
     },
     "execution_count": 23,
     "metadata": {},
     "output_type": "execute_result"
    }
   ],
   "source": [
    "mydf2.median()"
   ]
  },
  {
   "cell_type": "code",
   "execution_count": 24,
   "metadata": {},
   "outputs": [
    {
     "data": {
      "text/plain": [
       "0    6.506407\n",
       "1    1.732051\n",
       "dtype: float64"
      ]
     },
     "execution_count": 24,
     "metadata": {},
     "output_type": "execute_result"
    }
   ],
   "source": [
    "mydf2.std()"
   ]
  },
  {
   "cell_type": "code",
   "execution_count": null,
   "metadata": {},
   "outputs": [],
   "source": []
  }
 ],
 "metadata": {
  "kernelspec": {
   "display_name": "Python 3",
   "language": "python",
   "name": "python3"
  },
  "language_info": {
   "codemirror_mode": {
    "name": "ipython",
    "version": 3
   },
   "file_extension": ".py",
   "mimetype": "text/x-python",
   "name": "python",
   "nbconvert_exporter": "python",
   "pygments_lexer": "ipython3",
   "version": "3.13.4"
  }
 },
 "nbformat": 4,
 "nbformat_minor": 2
}
